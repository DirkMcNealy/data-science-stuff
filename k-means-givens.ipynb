{
 "cells": [
  {
   "cell_type": "markdown",
   "metadata": {},
   "source": [
    "## Generate 2d data. ideally cluster it up a bit"
   ]
  },
  {
   "cell_type": "code",
   "execution_count": 21,
   "metadata": {},
   "outputs": [],
   "source": [
    "import numpy as np\n",
    "import matplotlib.pyplot as plt\n"
   ]
  },
  {
   "cell_type": "code",
   "execution_count": 36,
   "metadata": {},
   "outputs": [
    {
     "data": {
      "image/png": "[encoded data removed]",
      "text/plain": [
       "<Figure size 432x288 with 1 Axes>"
      ]
     },
     "metadata": {
      "needs_background": "light"
     },
     "output_type": "display_data"
    }
   ],
   "source": [
    "dist1 = np.round(np.random.normal(scale=1, size=(30,2)) + np.array([2,2]), 2)\n",
    "dist2 = np.round(np.random.normal(scale=1, size=(30,2)) + np.array([4,4]), 2)\n",
    "plt.plot(dist1[:,0],dist1[:,1], 'ro')\n",
    "plt.plot(dist2[:,0],dist2[:,1], 'bo')\n",
    "X = np.concatenate((dist1, dist2), axis=0)"
   ]
  },
  {
   "cell_type": "code",
   "execution_count": null,
   "metadata": {},
   "outputs": [],
   "source": []
  },
  {
   "cell_type": "markdown",
   "metadata": {},
   "source": [
    "## K means"
   ]
  },
  {
   "cell_type": "markdown",
   "metadata": {},
   "source": [
    "### functions"
   ]
  },
  {
   "cell_type": "code",
   "execution_count": 158,
   "metadata": {},
   "outputs": [],
   "source": [
    "def assign(X, centroids):\n",
    "    # returns vector of indexes of centroids that X are closest to\n",
    "    K = centroids.shape[0]\n",
    "    idx = np.zeros((X.shape[0], 1))\n",
    "    diffs = np.zeros((X.shape[0], K))\n",
    "    for i in range(K):\n",
    "        diffs[:, i] = np.sum(np.square((X - centroids[i,:])), 1)\n",
    "    idx = np.argmin(diffs, axis=1)\n",
    "    return idx\n",
    "\n",
    "\n",
    "def computeCentroids(X, idx, K):\n",
    "    n = X.shape[1]\n",
    "    centroids = np.zeros((K, n))\n",
    "    for index in range(0,K):\n",
    "        centroids[index,:] = np.mean(X[idx == index,:], axis=0)\n",
    "    return centroids\n",
    "\n",
    "\n",
    "def kmeans_inner(X, given_centroids, inner_iters, K):\n",
    "    # initialize find_centroids to random X's.\n",
    "    find_centroids = X[np.random.permutation(K - given_centroids.shape[0])]\n",
    "    \n",
    "    all_centroids = np.concatenate((given_centroids, find_centroids), axis=0)\n",
    "    for i in range(inner_iters):\n",
    "        idx = assign(X, all_centroids)\n",
    "        updated_centroids = computeCentroids(X, idx, K)\n",
    "        all_centroids = np.concatenate((given_centroids, updated_centroids[[given_centroids.shape[0]],:]), axis=0)\n",
    "    \n",
    "    return all_centroids\n",
    "\n",
    "def calculate_cost(X, centroids):\n",
    "    idx = assign(X, centroids)\n",
    "    return np.sum(np.square(X - centroids[idx]))\n",
    "\n",
    "def kmeans(X, given_centroids, K, inner_iters, outer_iters):\n",
    "    # X: data\n",
    "    # given_centroids: fixed centroids\n",
    "    # K: total centroids\n",
    "    # inner_iters: iterations for each k-means run\n",
    "    # outer_iters: number of times to run k-means to take the best from\n",
    "\n",
    "    # run kmeans_inner out_iters times\n",
    "    # get the cost for the result\n",
    "    # take the result with lowest cost\n",
    "    output = []\n",
    "    cost = np.zeros(outer_iters)\n",
    "    \n",
    "    for i in range(outer_iters):\n",
    "        output.append(kmeans_inner(X, given_centroids, inner_iters, K))\n",
    "        cost[i] = calculate_cost(X, output[i])\n",
    "    plt.plot(cost)\n",
    "    plt.show()\n",
    "    return output[np.argmin(cost)]\n",
    "\n"
   ]
  },
  {
   "cell_type": "markdown",
   "metadata": {},
   "source": [
    "### Do it"
   ]
  },
  {
   "cell_type": "code",
   "execution_count": 161,
   "metadata": {},
   "outputs": [
    {
     "data": {
      "image/png": "[encoded data removed]",
      "text/plain": [
       "<Figure size 432x288 with 1 Axes>"
      ]
     },
     "metadata": {
      "needs_background": "light"
     },
     "output_type": "display_data"
    },
    {
     "data": {
      "text/plain": [
       "[<matplotlib.lines.Line2D at 0x117d4dee0>]"
      ]
     },
     "execution_count": 161,
     "metadata": {},
     "output_type": "execute_result"
    },
    {
     "data": {
      "image/png": "[encoded data removed]",
      "text/plain": [
       "<Figure size 432x288 with 1 Axes>"
      ]
     },
     "metadata": {
      "needs_background": "light"
     },
     "output_type": "display_data"
    }
   ],
   "source": [
    "given_centroids = np.array([[1,2]])\n",
    "centroids = kmeans(X,given_centroids,2,30,30)\n",
    "plt.plot(centroids[:,0],centroids[:,1], 'ro')\n",
    "plt.plot(X[:,0],X[:,1], 'bo')"
   ]
  },
  {
   "cell_type": "code",
   "execution_count": 162,
   "metadata": {},
   "outputs": [
    {
     "data": {
      "text/plain": [
       "array([[1.        , 2.        ],\n",
       "       [3.73461538, 3.62102564]])"
      ]
     },
     "execution_count": 162,
     "metadata": {},
     "output_type": "execute_result"
    }
   ],
   "source": [
    "centroids"
   ]
  },
  {
   "cell_type": "code",
   "execution_count": 109,
   "metadata": {},
   "outputs": [
    {
     "data": {
      "text/plain": [
       "array([[0.59, 1.76],\n",
       "       [3.12, 1.3 ]])"
      ]
     },
     "execution_count": 109,
     "metadata": {},
     "output_type": "execute_result"
    }
   ],
   "source": []
  },
  {
   "cell_type": "code",
   "execution_count": 55,
   "metadata": {},
   "outputs": [],
   "source": [
    "K = 2"
   ]
  },
  {
   "cell_type": "code",
   "execution_count": 58,
   "metadata": {},
   "outputs": [],
   "source": []
  },
  {
   "cell_type": "code",
   "execution_count": 67,
   "metadata": {},
   "outputs": [
    {
     "data": {
      "text/plain": [
       "2"
      ]
     },
     "execution_count": 67,
     "metadata": {},
     "output_type": "execute_result"
    }
   ],
   "source": [
    "centroids.shape[0]"
   ]
  },
  {
   "cell_type": "code",
   "execution_count": 68,
   "metadata": {},
   "outputs": [
    {
     "name": "stdout",
     "output_type": "stream",
     "text": [
      "0\n",
      "1\n"
     ]
    }
   ],
   "source": [
    "for index in range(K):\n",
    "    print(index)"
   ]
  },
  {
   "cell_type": "code",
   "execution_count": 65,
   "metadata": {},
   "outputs": [
    {
     "data": {
      "text/plain": [
       "array([3.12])"
      ]
     },
     "execution_count": 65,
     "metadata": {},
     "output_type": "execute_result"
    }
   ],
   "source": []
  },
  {
   "cell_type": "code",
   "execution_count": 79,
   "metadata": {},
   "outputs": [],
   "source": [
    "\n",
    "output = np.zeros((20, K, X.shape[1]))"
   ]
  },
  {
   "cell_type": "code",
   "execution_count": 80,
   "metadata": {},
   "outputs": [
    {
     "data": {
      "text/plain": [
       "array([[[0., 0.],\n",
       "        [0., 0.]],\n",
       "\n",
       "       [[0., 0.],\n",
       "        [0., 0.]],\n",
       "\n",
       "       [[0., 0.],\n",
       "        [0., 0.]],\n",
       "\n",
       "       [[0., 0.],\n",
       "        [0., 0.]],\n",
       "\n",
       "       [[0., 0.],\n",
       "        [0., 0.]],\n",
       "\n",
       "       [[0., 0.],\n",
       "        [0., 0.]],\n",
       "\n",
       "       [[0., 0.],\n",
       "        [0., 0.]],\n",
       "\n",
       "       [[0., 0.],\n",
       "        [0., 0.]],\n",
       "\n",
       "       [[0., 0.],\n",
       "        [0., 0.]],\n",
       "\n",
       "       [[0., 0.],\n",
       "        [0., 0.]],\n",
       "\n",
       "       [[0., 0.],\n",
       "        [0., 0.]],\n",
       "\n",
       "       [[0., 0.],\n",
       "        [0., 0.]],\n",
       "\n",
       "       [[0., 0.],\n",
       "        [0., 0.]],\n",
       "\n",
       "       [[0., 0.],\n",
       "        [0., 0.]],\n",
       "\n",
       "       [[0., 0.],\n",
       "        [0., 0.]],\n",
       "\n",
       "       [[0., 0.],\n",
       "        [0., 0.]],\n",
       "\n",
       "       [[0., 0.],\n",
       "        [0., 0.]],\n",
       "\n",
       "       [[0., 0.],\n",
       "        [0., 0.]],\n",
       "\n",
       "       [[0., 0.],\n",
       "        [0., 0.]],\n",
       "\n",
       "       [[0., 0.],\n",
       "        [0., 0.]]])"
      ]
     },
     "execution_count": 80,
     "metadata": {},
     "output_type": "execute_result"
    }
   ],
   "source": [
    "output"
   ]
  },
  {
   "cell_type": "code",
   "execution_count": null,
   "metadata": {},
   "outputs": [],
   "source": []
  }
 ],
 "metadata": {
  "kernelspec": {
   "display_name": "Python 3",
   "language": "python",
   "name": "python3"
  },
  "language_info": {
   "codemirror_mode": {
    "name": "ipython",
    "version": 3
   },
   "file_extension": ".py",
   "mimetype": "text/x-python",
   "name": "python",
   "nbconvert_exporter": "python",
   "pygments_lexer": "ipython3",
   "version": "3.8.6"
  }
 },
 "nbformat": 4,
 "nbformat_minor": 4
}
